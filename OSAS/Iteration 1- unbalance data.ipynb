{
 "cells": [
  {
   "cell_type": "code",
   "execution_count": 1,
   "metadata": {},
   "outputs": [
    {
     "data": {
      "text/plain": [
       "(281683, 70)"
      ]
     },
     "execution_count": 1,
     "metadata": {},
     "output_type": "execute_result"
    }
   ],
   "source": [
    "# sudo pip3 install sklearn --user\n",
    "import pandas as pd\n",
    "import numpy as np\n",
    "import matplotlib.pyplot as plt\n",
    "import scipy\n",
    "import sklearn\n",
    "from sklearn.metrics import accuracy_score\n",
    "from sklearn.metrics import confusion_matrix\n",
    "from sklearn.metrics import classification_report\n",
    "import seaborn as sns\n",
    "import warnings\n",
    "warnings.filterwarnings('ignore')\n",
    "\n",
    "#df = pd.read_csv(\"demo_dataset.csv\")\n",
    "df = pd.read_csv(\"datasets/aggreated_data.csv\",low_memory=False)\n",
    "df = df[df['accident_severity']>1]\n",
    "df.shape\n"
   ]
  },
  {
   "cell_type": "code",
   "execution_count": 2,
   "metadata": {},
   "outputs": [],
   "source": [
    "df=df.dropna() # The dataset is huge, therefore, dropping any rows with missing values is fine"
   ]
  },
  {
   "cell_type": "code",
   "execution_count": 3,
   "metadata": {},
   "outputs": [
    {
     "data": {
      "text/plain": [
       "(171942, 70)"
      ]
     },
     "execution_count": 3,
     "metadata": {},
     "output_type": "execute_result"
    }
   ],
   "source": [
    "df.shape"
   ]
  },
  {
   "cell_type": "code",
   "execution_count": 4,
   "metadata": {},
   "outputs": [
    {
     "data": {
      "text/plain": [
       "(171942, 11)"
      ]
     },
     "execution_count": 4,
     "metadata": {},
     "output_type": "execute_result"
    }
   ],
   "source": [
    "df1 = df[['special_conditions_at_site','pedestrian_movement','age_of_vehicle','sex_of_driver','age_of_driver','junction_location','junction_detail','junction_control','did_police_officer_attend_scene_of_accident','day_of_week','accident_severity']]\n",
    "df1.shape"
   ]
  },
  {
   "cell_type": "code",
   "execution_count": 5,
   "metadata": {},
   "outputs": [
    {
     "data": {
      "text/plain": [
       "(67595, 11)"
      ]
     },
     "execution_count": 5,
     "metadata": {},
     "output_type": "execute_result"
    }
   ],
   "source": [
    "df1.replace(-1, np.nan, inplace=True)\n",
    "df1=df1.dropna() # I drop all the rows with missing data once again\n",
    "df1.shape"
   ]
  },
  {
   "cell_type": "code",
   "execution_count": 6,
   "metadata": {},
   "outputs": [],
   "source": [
    "df1= df1[:15000] #keep 1500 to decrease running times\n",
    "Y1 = df1.accident_severity.values\n",
    "X1 = df1.loc[:, df1.columns != 'accident_severity']"
   ]
  },
  {
   "cell_type": "code",
   "execution_count": 22,
   "metadata": {},
   "outputs": [
    {
     "name": "stdout",
     "output_type": "stream",
     "text": [
      "SVC Accurate: \n",
      " 92.48\n",
      "Classification report: \n",
      "              precision    recall  f1-score   support\n",
      "\n",
      "          2       0.75      0.02      0.03       376\n",
      "          3       0.93      1.00      0.96      4574\n",
      "\n",
      "avg / total       0.91      0.92      0.89      4950\n",
      "\n"
     ]
    },
    {
     "data": {
      "image/png": "[encoded data removed]",
      "text/plain": [
       "<Figure size 432x288 with 2 Axes>"
      ]
     },
     "metadata": {
      "needs_background": "light"
     },
     "output_type": "display_data"
    }
   ],
   "source": [
    "from sklearn.linear_model import LogisticRegression\n",
    "from sklearn.svm import SVC, LinearSVC\n",
    "from sklearn.ensemble import RandomForestClassifier\n",
    "from sklearn.neighbors import KNeighborsClassifier\n",
    "from sklearn.naive_bayes import GaussianNB\n",
    "from sklearn.linear_model import Perceptron\n",
    "from sklearn.linear_model import SGDClassifier\n",
    "from sklearn.tree import DecisionTreeClassifier\n",
    "from sklearn.model_selection import train_test_split\n",
    "\n",
    "X_train1, X_test1,Y_train1,Y_test1 = train_test_split(X1, Y1, test_size=0.33, random_state=99)\n",
    "classifier = SVC()\n",
    "classifier.fit(X_train1, Y_train1)\n",
    "Y_pred = classifier.predict(X_test1)\n",
    "acc_svc1 = round(classifier.score(X_test1, Y_test1) * 100, 2)\n",
    "cm = confusion_matrix(Y_test1,Y_pred)\n",
    "# Confusion matrix with random forest\n",
    "from sklearn.metrics import classification_report, confusion_matrix\n",
    "from sklearn.ensemble import RandomForestClassifier\n",
    "print('SVC Accurate: \\n',acc_svc1)\n",
    "print('Classification report: \\n',classification_report(Y_test1,Y_pred))\n",
    "sns.heatmap(cm,annot=True,fmt=\"d\") \n",
    "plt.show()\n",
    "\n"
   ]
  },
  {
   "cell_type": "code",
   "execution_count": 8,
   "metadata": {},
   "outputs": [
    {
     "name": "stdout",
     "output_type": "stream",
     "text": [
      "Accurate: \n",
      " 92.48\n",
      "Classification report: \n",
      "              precision    recall  f1-score   support\n",
      "\n",
      "          2       0.21      0.07      0.11       376\n",
      "          3       0.93      0.98      0.95      4574\n",
      "\n",
      "avg / total       0.87      0.91      0.89      4950\n",
      "\n"
     ]
    },
    {
     "data": {
      "image/png": "[encoded data removed]",
      "text/plain": [
       "<Figure size 432x288 with 2 Axes>"
      ]
     },
     "metadata": {
      "needs_background": "light"
     },
     "output_type": "display_data"
    }
   ],
   "source": [
    "classifier = KNeighborsClassifier(n_neighbors = 3)\n",
    "classifier.fit(X_train1, Y_train1)\n",
    "Y_pred = classifier.predict(X_test1)\n",
    "acc_knn1 = round(classifier.score(X_test1, Y_test1) * 100, 2)\n",
    "cm = confusion_matrix(Y_test1,Y_pred)\n",
    "# Confusion matrix with random forest\n",
    "from sklearn.metrics import classification_report, confusion_matrix\n",
    "from sklearn.ensemble import RandomForestClassifier\n",
    "print('Accurate: \\n',acc_svc1)\n",
    "print('Classification report: \\n',classification_report(Y_test1,Y_pred))\n",
    "sns.heatmap(cm,annot=True,fmt=\"d\") \n",
    "plt.show()\n"
   ]
  },
  {
   "cell_type": "code",
   "execution_count": 16,
   "metadata": {},
   "outputs": [
    {
     "name": "stdout",
     "output_type": "stream",
     "text": [
      "Accurate: \n",
      " 93.06\n",
      "Classification report: \n",
      "              precision    recall  f1-score   support\n",
      "\n",
      "          2       0.00      0.00      0.00       376\n",
      "          3       0.92      1.00      0.96      4574\n",
      "\n",
      "avg / total       0.85      0.92      0.89      4950\n",
      "\n"
     ]
    },
    {
     "data": {
      "image/png": "[encoded data removed]",
      "text/plain": [
       "<Figure size 432x288 with 2 Axes>"
      ]
     },
     "metadata": {
      "needs_background": "light"
     },
     "output_type": "display_data"
    }
   ],
   "source": [
    "\n",
    "# Logistic Regression\n",
    "logreg = LogisticRegression()\n",
    "logreg.fit(X_train1, Y_train1)\n",
    "Y_pred = classifier.predict(X_test1)\n",
    "acc_log1 = round(logreg.score(X_train1, Y_train1) * 100, 2)\n",
    "\n",
    "\n",
    "cm = confusion_matrix(Y_test1,Y_pred)\n",
    "# Confusion matrix with random forest\n",
    "from sklearn.metrics import classification_report, confusion_matrix\n",
    "from sklearn.ensemble import RandomForestClassifier\n",
    "print('Accurate: \\n',acc_log1)\n",
    "print('Classification report: \\n',classification_report(Y_test1,Y_pred))\n",
    "sns.heatmap(cm,annot=True,fmt=\"d\") \n",
    "plt.show()\n",
    "\n",
    "\n"
   ]
  },
  {
   "cell_type": "code",
   "execution_count": 10,
   "metadata": {},
   "outputs": [
    {
     "name": "stdout",
     "output_type": "stream",
     "text": [
      "Accurate: \n",
      " 86.26\n",
      "Classification report: \n",
      "              precision    recall  f1-score   support\n",
      "\n",
      "          2       0.18      0.23      0.20       376\n",
      "          3       0.93      0.91      0.92      4574\n",
      "\n",
      "avg / total       0.88      0.86      0.87      4950\n",
      "\n"
     ]
    },
    {
     "data": {
      "image/png": "[encoded data removed]",
      "text/plain": [
       "<Figure size 432x288 with 2 Axes>"
      ]
     },
     "metadata": {
      "needs_background": "light"
     },
     "output_type": "display_data"
    }
   ],
   "source": [
    "# Decision Tree\n",
    "\n",
    "decision_tree = DecisionTreeClassifier()\n",
    "decision_tree.fit(X_train1, Y_train1)\n",
    "Y_pred = decision_tree.predict(X_test1)\n",
    "acc_decision_tree1 = round(decision_tree.score(X_test1, Y_test1) * 100, 2)\n",
    "acc_decision_tree1\n",
    "\n",
    "\n",
    "cm = confusion_matrix(Y_test1,Y_pred)\n",
    "# Confusion matrix with random forest\n",
    "from sklearn.metrics import classification_report, confusion_matrix\n",
    "from sklearn.ensemble import RandomForestClassifier\n",
    "print('Accurate: \\n',acc_decision_tree1)\n",
    "print('Classification report: \\n',classification_report(Y_test1,Y_pred))\n",
    "sns.heatmap(cm,annot=True,fmt=\"d\") \n",
    "plt.show()\n"
   ]
  },
  {
   "cell_type": "code",
   "execution_count": 11,
   "metadata": {},
   "outputs": [
    {
     "name": "stdout",
     "output_type": "stream",
     "text": [
      "Accurate: \n",
      " 92.46\n",
      "Classification report: \n",
      "              precision    recall  f1-score   support\n",
      "\n",
      "          2       0.52      0.14      0.21       376\n",
      "          3       0.93      0.99      0.96      4574\n",
      "\n",
      "avg / total       0.90      0.92      0.90      4950\n",
      "\n"
     ]
    },
    {
     "data": {
      "image/png": "[encoded data removed]",
      "text/plain": [
       "<Figure size 432x288 with 2 Axes>"
      ]
     },
     "metadata": {
      "needs_background": "light"
     },
     "output_type": "display_data"
    }
   ],
   "source": [
    "# Random Forest\n",
    "\n",
    "random_forest = RandomForestClassifier(n_estimators=100)\n",
    "random_forest.fit(X_train1, Y_train1)\n",
    "Y_pred = random_forest.predict(X_test1)\n",
    "random_forest.score(X_train1, Y_train1)\n",
    "acc_random_forest1 = round(random_forest.score(X_test1, Y_test1) * 100, 2)\n",
    "acc_random_forest1\n",
    "\n",
    "\n",
    "cm = confusion_matrix(Y_test1,Y_pred)\n",
    "# Confusion matrix with random forest\n",
    "from sklearn.metrics import classification_report, confusion_matrix\n",
    "from sklearn.ensemble import RandomForestClassifier\n",
    "print('Accurate: \\n',acc_random_forest1)\n",
    "print('Classification report: \\n',classification_report(Y_test1,Y_pred))\n",
    "sns.heatmap(cm,annot=True,fmt=\"d\") \n",
    "plt.show()"
   ]
  },
  {
   "cell_type": "code",
   "execution_count": 21,
   "metadata": {},
   "outputs": [
    {
     "name": "stdout",
     "output_type": "stream",
     "text": [
      "Machine Learning algorithm scores without weather related conditions\n"
     ]
    },
    {
     "data": {
      "text/html": [
       "<div>\n",
       "<style scoped>\n",
       "    .dataframe tbody tr th:only-of-type {\n",
       "        vertical-align: middle;\n",
       "    }\n",
       "\n",
       "    .dataframe tbody tr th {\n",
       "        vertical-align: top;\n",
       "    }\n",
       "\n",
       "    .dataframe thead th {\n",
       "        text-align: right;\n",
       "    }\n",
       "</style>\n",
       "<table border=\"1\" class=\"dataframe\">\n",
       "  <thead>\n",
       "    <tr style=\"text-align: right;\">\n",
       "      <th></th>\n",
       "      <th>Model</th>\n",
       "      <th>Score</th>\n",
       "    </tr>\n",
       "  </thead>\n",
       "  <tbody>\n",
       "    <tr>\n",
       "      <th>2</th>\n",
       "      <td>Logistic Regression</td>\n",
       "      <td>93.06</td>\n",
       "    </tr>\n",
       "    <tr>\n",
       "      <th>0</th>\n",
       "      <td>Support Vector Machines</td>\n",
       "      <td>92.48</td>\n",
       "    </tr>\n",
       "    <tr>\n",
       "      <th>3</th>\n",
       "      <td>Random Forest</td>\n",
       "      <td>92.46</td>\n",
       "    </tr>\n",
       "    <tr>\n",
       "      <th>1</th>\n",
       "      <td>KNN</td>\n",
       "      <td>90.81</td>\n",
       "    </tr>\n",
       "    <tr>\n",
       "      <th>4</th>\n",
       "      <td>Decision Tree</td>\n",
       "      <td>86.26</td>\n",
       "    </tr>\n",
       "  </tbody>\n",
       "</table>\n",
       "</div>"
      ],
      "text/plain": [
       "                     Model  Score\n",
       "2      Logistic Regression  93.06\n",
       "0  Support Vector Machines  92.48\n",
       "3            Random Forest  92.46\n",
       "1                      KNN  90.81\n",
       "4            Decision Tree  86.26"
      ]
     },
     "execution_count": 21,
     "metadata": {},
     "output_type": "execute_result"
    }
   ],
   "source": [
    "print(\"Machine Learning algorithm scores without weather related conditions\")\n",
    "models = pd.DataFrame({\n",
    "    'Model': ['Support Vector Machines', 'KNN', 'Logistic Regression', \n",
    "              'Random Forest', \n",
    "              'Decision Tree'],\n",
    "    'Score': [acc_svc1, acc_knn1, acc_log1, \n",
    "              acc_random_forest1, acc_decision_tree1]})\n",
    "models.sort_values(by='Score', ascending=False)\n"
   ]
  },
  {
   "cell_type": "code",
   "execution_count": null,
   "metadata": {},
   "outputs": [],
   "source": []
  }
 ],
 "metadata": {
  "kernelspec": {
   "display_name": "Python 3",
   "language": "python",
   "name": "python3"
  },
  "language_info": {
   "codemirror_mode": {
    "name": "ipython",
    "version": 3
   },
   "file_extension": ".py",
   "mimetype": "text/x-python",
   "name": "python",
   "nbconvert_exporter": "python",
   "pygments_lexer": "ipython3",
   "version": "3.7.0"
  }
 },
 "nbformat": 4,
 "nbformat_minor": 2
}
