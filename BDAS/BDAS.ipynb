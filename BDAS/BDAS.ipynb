{
 "cells": [
  {
   "cell_type": "markdown",
   "metadata": {},
   "source": [
    "# Spark DF - Basics\n",
    "\n",
    "Let's start off with the fundamentals of Spark DataFrame. The functionality in this tutorial has been adapted from Chang Hsin Lee. Find out more here:\n",
    "\n",
    "https://changhsinlee.com/pyspark-dataframe-basics/\n",
    "Objective: In this exercise, you'll understand more about DataFrames, how to start a spark session, and carry out some basic data exploration, manipulation and aggregation.\n",
    "\n",
    "What is a DataFrame? A DataFrame is a Dataset organized into named columns. It is conceptually equivalent to a table in a relational database or a data frame in R/Python, but with richer optimizations under the hood. Find more information here: https://spark.apache.org/docs/latest/sql-programming-guide.html\n",
    "\n",
    "What is a Spark Session? It provides a single point of entry to interact with Spark's underlying functionality, which allows us to simply program Spark with DataFrame/Dataset APIs. A new Spark Session must be started in each of our notebooks."
   ]
  },
  {
   "cell_type": "code",
   "execution_count": 1,
   "metadata": {},
   "outputs": [],
   "source": [
    "# Section must be included at the beginning of each new notebook. Remember to change the app name. \n",
    "# If you're using VirtualBox, change the below to '/home/user/spark-2.1.1-bin-hadoop2.7'\n",
    "import findspark\n",
    "findspark.init('/home/ubuntu/spark-2.1.1-bin-hadoop2.7')\n",
    "import pyspark\n",
    "from pyspark.sql import SparkSession\n",
    "spark = SparkSession.builder.appName('basics').getOrCreate()"
   ]
  },
  {
   "cell_type": "code",
   "execution_count": 9,
   "metadata": {},
   "outputs": [],
   "source": [
    "# Let's read in the data. If you open the dataset, you'll find that each column has a header. We specify that by stating that header=True.\n",
    "# To make our lives easier, we can also use 'inferSchema' when importing CSVs. This automatically detects data types.\n",
    "# If you would like to manually change data types, refer to this article: https://medium.com/@mrpowers/adding-structtype-columns-to-spark-dataframes-b44125409803\n",
    "df = spark.read.csv('Datasets/Accidents_2015.csv',header=True,inferSchema=True)"
   ]
  },
  {
   "cell_type": "markdown",
   "metadata": {},
   "source": [
    "# 1. Basic Data Exploration\n",
    "# 1. DataFrame Manipulations\n",
    "\n",
    "Now that we've started the session and imported the data, let's explore the data."
   ]
  },
  {
   "cell_type": "markdown",
   "metadata": {},
   "source": [
    "### 1.1 Show first n observation\n",
    "We can use head operation to see first 2 observation"
   ]
  },
  {
   "cell_type": "code",
   "execution_count": 14,
   "metadata": {},
   "outputs": [
    {
     "name": "stdout",
     "output_type": "stream",
     "text": [
      "+--------------+---------------------+----------------------+---------+---------+------------+-----------------+------------------+--------------------+----------+-----------+-----+--------------------------+-------------------------+--------------+---------------+---------+-----------+---------------+----------------+--------------+---------------+---------------------------------+---------------------------------------+----------------+------------------+-----------------------+--------------------------+-------------------+-------------------+-------------------------------------------+-------------------------+\n",
      "|Accident_Index|Location_Easting_OSGR|Location_Northing_OSGR|Longitude| Latitude|Police_Force|Accident_Severity|Number_of_Vehicles|Number_of_Casualties|      Date|Day_of_Week| Time|Local_Authority_(District)|Local_Authority_(Highway)|1st_Road_Class|1st_Road_Number|Road_Type|Speed_limit|Junction_Detail|Junction_Control|2nd_Road_Class|2nd_Road_Number|Pedestrian_Crossing-Human_Control|Pedestrian_Crossing-Physical_Facilities|Light_Conditions|Weather_Conditions|Road_Surface_Conditions|Special_Conditions_at_Site|Carriageway_Hazards|Urban_or_Rural_Area|Did_Police_Officer_Attend_Scene_of_Accident|LSOA_of_Accident_Location|\n",
      "+--------------+---------------------+----------------------+---------+---------+------------+-----------------+------------------+--------------------+----------+-----------+-----+--------------------------+-------------------------+--------------+---------------+---------+-----------+---------------+----------------+--------------+---------------+---------------------------------+---------------------------------------+----------------+------------------+-----------------------+--------------------------+-------------------+-------------------+-------------------------------------------+-------------------------+\n",
      "| 201501BS70001|               525130|                180050|-0.198465|51.505538|           1|                3|                 1|                   1|12/01/2015|          2|18:45|                        12|                E09000020|             5|              0|        6|         30|              3|               4|             6|              0|                                0|                                      0|               4|                 1|                      1|                         0|                  0|                  1|                                          1|                E01002825|\n",
      "| 201501BS70002|               526530|                178560|-0.178838|51.491836|           1|                3|                 1|                   1|12/01/2015|          2|07:50|                        12|                E09000020|             6|              0|        6|         30|              3|               4|             3|           3218|                                0|                                      0|               1|                 1|                      1|                         0|                  0|                  1|                                          1|                E01002820|\n",
      "+--------------+---------------------+----------------------+---------+---------+------------+-----------------+------------------+--------------------+----------+-----------+-----+--------------------------+-------------------------+--------------+---------------+---------+-----------+---------------+----------------+--------------+---------------+---------------------------------+---------------------------------------+----------------+------------------+-----------------------+--------------------------+-------------------+-------------------+-------------------------------------------+-------------------------+\n",
      "only showing top 2 rows\n",
      "\n"
     ]
    }
   ],
   "source": [
    "# The show method allows you visualise DataFrames in a tabular format. \n",
    "# df.show()\n",
    "df.show(2,truncate= True)"
   ]
  },
  {
   "cell_type": "markdown",
   "metadata": {},
   "source": [
    "### 1.2 Datatype of columns\n",
    "To see the types of columns in DataFrame, we can use the printSchema, dtypes. Let’s apply printSchema() on df which will Print the schema in a tree format."
   ]
  },
  {
   "cell_type": "code",
   "execution_count": 4,
   "metadata": {},
   "outputs": [
    {
     "name": "stdout",
     "output_type": "stream",
     "text": [
      "root\n",
      " |-- Accident_Index: string (nullable = true)\n",
      " |-- Location_Easting_OSGR: integer (nullable = true)\n",
      " |-- Location_Northing_OSGR: integer (nullable = true)\n",
      " |-- Longitude: double (nullable = true)\n",
      " |-- Latitude: double (nullable = true)\n",
      " |-- Police_Force: integer (nullable = true)\n",
      " |-- Accident_Severity: integer (nullable = true)\n",
      " |-- Number_of_Vehicles: integer (nullable = true)\n",
      " |-- Number_of_Casualties: integer (nullable = true)\n",
      " |-- Date: string (nullable = true)\n",
      " |-- Day_of_Week: integer (nullable = true)\n",
      " |-- Time: string (nullable = true)\n",
      " |-- Local_Authority_(District): integer (nullable = true)\n",
      " |-- Local_Authority_(Highway): string (nullable = true)\n",
      " |-- 1st_Road_Class: integer (nullable = true)\n",
      " |-- 1st_Road_Number: integer (nullable = true)\n",
      " |-- Road_Type: integer (nullable = true)\n",
      " |-- Speed_limit: integer (nullable = true)\n",
      " |-- Junction_Detail: integer (nullable = true)\n",
      " |-- Junction_Control: integer (nullable = true)\n",
      " |-- 2nd_Road_Class: integer (nullable = true)\n",
      " |-- 2nd_Road_Number: integer (nullable = true)\n",
      " |-- Pedestrian_Crossing-Human_Control: integer (nullable = true)\n",
      " |-- Pedestrian_Crossing-Physical_Facilities: integer (nullable = true)\n",
      " |-- Light_Conditions: integer (nullable = true)\n",
      " |-- Weather_Conditions: integer (nullable = true)\n",
      " |-- Road_Surface_Conditions: integer (nullable = true)\n",
      " |-- Special_Conditions_at_Site: integer (nullable = true)\n",
      " |-- Carriageway_Hazards: integer (nullable = true)\n",
      " |-- Urban_or_Rural_Area: integer (nullable = true)\n",
      " |-- Did_Police_Officer_Attend_Scene_of_Accident: integer (nullable = true)\n",
      " |-- LSOA_of_Accident_Location: string (nullable = true)\n",
      "\n",
      "[Row(Accident_Index='201501BS70001', Location_Easting_OSGR=525130, Location_Northing_OSGR=180050, Longitude=-0.198465, Latitude=51.505538, Police_Force=1, Accident_Severity=3, Number_of_Vehicles=1, Number_of_Casualties=1, Date='12/01/2015', Day_of_Week=2, Time='18:45', Local_Authority_(District)=12, Local_Authority_(Highway)='E09000020', 1st_Road_Class=5, 1st_Road_Number=0, Road_Type=6, Speed_limit=30, Junction_Detail=3, Junction_Control=4, 2nd_Road_Class=6, 2nd_Road_Number=0, Pedestrian_Crossing-Human_Control=0, Pedestrian_Crossing-Physical_Facilities=0, Light_Conditions=4, Weather_Conditions=1, Road_Surface_Conditions=1, Special_Conditions_at_Site=0, Carriageway_Hazards=0, Urban_or_Rural_Area=1, Did_Police_Officer_Attend_Scene_of_Accident=1, LSOA_of_Accident_Location='E01002825')]\n"
     ]
    }
   ],
   "source": [
    "# Print schema allows us to visualise the data structure at a high level. \n",
    "df.printSchema()\n",
    "\n",
    "# We can also use head to print a specific amount of rows, so we can get a better understanding of the data points. \n",
    "# Note that we have to specify 'print' depending on the method we're using. Otherwise it may not show up!\n",
    "print(df.head(1))"
   ]
  },
  {
   "cell_type": "markdown",
   "metadata": {},
   "source": [
    "### 1.3 Count the number of rows in DataFrame\n",
    "We can use count operation to count the number of rows in DataFrame. Let’s apply count operation on train & test files to count the number of rows."
   ]
  },
  {
   "cell_type": "code",
   "execution_count": 15,
   "metadata": {},
   "outputs": [
    {
     "name": "stdout",
     "output_type": "stream",
     "text": [
      "Total data points: 140056\n"
     ]
    }
   ],
   "source": [
    "# Let's see how many rows of data we originally have.\n",
    "print(\"Total data points:\", df.count())"
   ]
  },
  {
   "cell_type": "markdown",
   "metadata": {},
   "source": [
    "### 1.4 Data Columns Exploration\n",
    "For getting the columns name we can use columns on DataFrame, similar to what we do for getting the columns in pandas DataFrame. Let’s first print the number of columns and columns name  in train file then in test file."
   ]
  },
  {
   "cell_type": "code",
   "execution_count": 16,
   "metadata": {},
   "outputs": [
    {
     "data": {
      "text/plain": [
       "(32,\n",
       " ['Accident_Index',\n",
       "  'Location_Easting_OSGR',\n",
       "  'Location_Northing_OSGR',\n",
       "  'Longitude',\n",
       "  'Latitude',\n",
       "  'Police_Force',\n",
       "  'Accident_Severity',\n",
       "  'Number_of_Vehicles',\n",
       "  'Number_of_Casualties',\n",
       "  'Date',\n",
       "  'Day_of_Week',\n",
       "  'Time',\n",
       "  'Local_Authority_(District)',\n",
       "  'Local_Authority_(Highway)',\n",
       "  '1st_Road_Class',\n",
       "  '1st_Road_Number',\n",
       "  'Road_Type',\n",
       "  'Speed_limit',\n",
       "  'Junction_Detail',\n",
       "  'Junction_Control',\n",
       "  '2nd_Road_Class',\n",
       "  '2nd_Road_Number',\n",
       "  'Pedestrian_Crossing-Human_Control',\n",
       "  'Pedestrian_Crossing-Physical_Facilities',\n",
       "  'Light_Conditions',\n",
       "  'Weather_Conditions',\n",
       "  'Road_Surface_Conditions',\n",
       "  'Special_Conditions_at_Site',\n",
       "  'Carriageway_Hazards',\n",
       "  'Urban_or_Rural_Area',\n",
       "  'Did_Police_Officer_Attend_Scene_of_Accident',\n",
       "  'LSOA_of_Accident_Location'])"
      ]
     },
     "execution_count": 16,
     "metadata": {},
     "output_type": "execute_result"
    }
   ],
   "source": [
    "len(df.columns), df.columns"
   ]
  },
  {
   "cell_type": "markdown",
   "metadata": {},
   "source": [
    "### 1.5 Summary Statistics of  DataFrame\n",
    "How to get the summary statistics (mean, standard deviance, min ,max , count) of numerical columns in a DataFrame?\n",
    "describe operation is use to calculate the summary statistics of numerical column(s) in DataFrame. If we don’t specify the name of columns it will calculate summary statistics for all numerical columns present in DataFrame."
   ]
  },
  {
   "cell_type": "code",
   "execution_count": 25,
   "metadata": {},
   "outputs": [
    {
     "name": "stdout",
     "output_type": "stream",
     "text": [
      "+-------+-------------------+------------------+------------------+--------------------+\n",
      "|summary|  Accident_Severity|       Speed_limit|Number_of_Vehicles|Number_of_Casualties|\n",
      "+-------+-------------------+------------------+------------------+--------------------+\n",
      "|  count|             140056|            140056|            140056|              140056|\n",
      "|   mean| 2.8338521734163478|38.175586908093905| 1.841013594562175|  1.3293896727023475|\n",
      "| stddev|0.40202035267758074|13.903646448890541|0.7100458769233176|   0.795426514274589|\n",
      "|    min|                  1|                 0|                 1|                   1|\n",
      "|    max|                  3|                70|                37|                  38|\n",
      "+-------+-------------------+------------------+------------------+--------------------+\n",
      "\n"
     ]
    }
   ],
   "source": [
    "# We can use the describe method get some general statistics on our data too. \n",
    "# df.describe().show()\n",
    "df.describe('Accident_Severity','Speed_limit','Number_of_Vehicles', 'Number_of_Casualties').show()"
   ]
  },
  {
   "cell_type": "markdown",
   "metadata": {},
   "source": [
    "### 1.6 What if I want to calculate pair wise frequency of categorical columns?\n",
    "We can use crosstab operation on DataFrame to calculate the pair wise frequency of columns. Let’s apply crosstab operation on ‘Age’ and ‘Gender’ columns of train DataFrame."
   ]
  },
  {
   "cell_type": "code",
   "execution_count": 26,
   "metadata": {},
   "outputs": [
    {
     "name": "stdout",
     "output_type": "stream",
     "text": [
      "+-----------------------------+---+-----+-----+\n",
      "|Speed_limit_Accident_Severity|  1|    2|    3|\n",
      "+-----------------------------+---+-----+-----+\n",
      "|                            0|  0|    0|    1|\n",
      "|                           10|  0|    0|    2|\n",
      "|                           20| 12|  645| 3633|\n",
      "|                           60|576| 3975|14530|\n",
      "|                           70|198| 1276| 8152|\n",
      "|                           50|118|  869| 4638|\n",
      "|                           40|189| 1776| 9839|\n",
      "|                           30|523|11497|77607|\n",
      "+-----------------------------+---+-----+-----+\n",
      "\n"
     ]
    }
   ],
   "source": [
    "df.crosstab('Speed_limit', 'Accident_Severity').show()"
   ]
  },
  {
   "cell_type": "markdown",
   "metadata": {},
   "source": [
    "In the above output, the first column of each row will be the distinct values of Age and the column names will be the distinct values of Gender. The name of the first column will be Age_Gender. Pair with no occurrences will have zero count in contingency table."
   ]
  },
  {
   "cell_type": "code",
   "execution_count": 27,
   "metadata": {},
   "outputs": [
    {
     "name": "stdout",
     "output_type": "stream",
     "text": [
      "+------------------------------------+---+----+-----+\n",
      "|Number_of_Vehicles_Accident_Severity|  1|   2|    3|\n",
      "+------------------------------------+---+----+-----+\n",
      "|                                   5| 16|  97|  474|\n",
      "|                                  10|  0|   2|    3|\n",
      "|                                  37|  1|   0|    0|\n",
      "|                                  14|  0|   1|    0|\n",
      "|                                   1|701|8377|32038|\n",
      "|                                   6|  1|  35|  117|\n",
      "|                                   9|  0|   2|    7|\n",
      "|                                  13|  0|   0|    1|\n",
      "|                                   2|681|9867|74067|\n",
      "|                                  12|  0|   0|    1|\n",
      "|                                   7|  1|  12|   34|\n",
      "|                                   3|161|1344| 9559|\n",
      "|                                  16|  0|   0|    1|\n",
      "|                                  11|  1|   1|    0|\n",
      "|                                   8|  0|   5|   12|\n",
      "|                                   4| 53| 295| 2088|\n",
      "+------------------------------------+---+----+-----+\n",
      "\n"
     ]
    }
   ],
   "source": [
    "df.crosstab('Number_of_Vehicles', 'Accident_Severity').show()"
   ]
  },
  {
   "cell_type": "markdown",
   "metadata": {},
   "source": [
    "In the above output, the first column of each row will be the distinct values of Age and the column names will be the distinct values of Gender. The name of the first column will be Age_Gender. Pair with no occurrences will have zero count in contingency table."
   ]
  },
  {
   "cell_type": "code",
   "execution_count": 28,
   "metadata": {},
   "outputs": [
    {
     "name": "stdout",
     "output_type": "stream",
     "text": [
      "+--------------------------------------+---+-----+-----+\n",
      "|Number_of_Casualties_Accident_Severity|  1|    2|    3|\n",
      "+--------------------------------------+---+-----+-----+\n",
      "|                                     5| 44|  195|  593|\n",
      "|                                    10|  0|    6|    4|\n",
      "|                                    24|  0|    1|    0|\n",
      "|                                    14|  0|    0|    2|\n",
      "|                                     1|989|15335|93071|\n",
      "|                                     6| 10|   80|  191|\n",
      "|                                    38|  0|    1|    0|\n",
      "|                                    21|  0|    0|    1|\n",
      "|                                     9|  3|    6|   13|\n",
      "|                                    13|  0|    1|    1|\n",
      "|                                     2|335| 2878|17925|\n",
      "|                                    34|  0|    1|    0|\n",
      "|                                    17|  0|    0|    3|\n",
      "|                                    12|  0|    1|    2|\n",
      "|                                     7| 10|   31|   67|\n",
      "|                                     3|140| 1000| 4912|\n",
      "|                                    35|  0|    1|    0|\n",
      "|                                    16|  0|    3|    1|\n",
      "|                                    11|  0|    2|    5|\n",
      "|                                     8|  3|   14|   32|\n",
      "+--------------------------------------+---+-----+-----+\n",
      "only showing top 20 rows\n",
      "\n"
     ]
    }
   ],
   "source": [
    "df.crosstab('Number_of_Casualties', 'Accident_Severity').show()"
   ]
  },
  {
   "cell_type": "markdown",
   "metadata": {},
   "source": [
    "In the above output, the first column of each row will be the distinct values of Age and the column names will be the distinct values of Gender. The name of the first column will be Age_Gender. Pair with no occurrences will have zero count in contingency table."
   ]
  },
  {
   "cell_type": "code",
   "execution_count": null,
   "metadata": {},
   "outputs": [],
   "source": []
  },
  {
   "cell_type": "code",
   "execution_count": null,
   "metadata": {},
   "outputs": [],
   "source": []
  },
  {
   "cell_type": "code",
   "execution_count": null,
   "metadata": {},
   "outputs": [],
   "source": []
  },
  {
   "cell_type": "code",
   "execution_count": null,
   "metadata": {},
   "outputs": [],
   "source": []
  },
  {
   "cell_type": "code",
   "execution_count": 6,
   "metadata": {},
   "outputs": [
    {
     "name": "stdout",
     "output_type": "stream",
     "text": [
      "+-------+------------------+------------------+-----------------+\n",
      "|summary|   1st_Road_Number|         Road_Type|      Day_of_Week|\n",
      "+-------+------------------+------------------+-----------------+\n",
      "|  count|            140056|            140056|           140056|\n",
      "|   mean| 982.2686568229851| 5.169182327069172|4.094962015193922|\n",
      "| stddev|1793.4760788594278|1.6474503020310935|1.911278724810604|\n",
      "|    min|                 0|                 1|                1|\n",
      "|    max|              9914|                 9|                7|\n",
      "+-------+------------------+------------------+-----------------+\n",
      "\n"
     ]
    }
   ],
   "source": [
    "# Let's select the columns that are integers, and use the describe method again.\n",
    "# We see that the average age is 41. The average bank account balance is $1,074. \n",
    "# And they spoke to call centre reps for approx. 931 seconds on average. \n",
    "df.select('1st_Road_Number', 'Road_Type', 'Day_of_Week').describe().show()"
   ]
  },
  {
   "cell_type": "code",
   "execution_count": 7,
   "metadata": {},
   "outputs": [
    {
     "name": "stdout",
     "output_type": "stream",
     "text": [
      "+-----------------+\n",
      "|Accident_Severity|\n",
      "+-----------------+\n",
      "|                3|\n",
      "|                3|\n",
      "|                3|\n",
      "|                3|\n",
      "|                2|\n",
      "|                3|\n",
      "|                3|\n",
      "|                3|\n",
      "|                3|\n",
      "|                3|\n",
      "|                3|\n",
      "|                3|\n",
      "|                3|\n",
      "|                3|\n",
      "|                3|\n",
      "|                3|\n",
      "|                3|\n",
      "|                3|\n",
      "|                3|\n",
      "|                3|\n",
      "+-----------------+\n",
      "only showing top 20 rows\n",
      "\n"
     ]
    }
   ],
   "source": [
    "# Let's select the balance column and assign it to a variable. \n",
    "bal_col = df.select('Accident_Severity')\n",
    "\n",
    "# We can then use the show method on that variable.\n",
    "bal_col.show()"
   ]
  },
  {
   "cell_type": "markdown",
   "metadata": {},
   "source": [
    "# Dropping Rows - Missing Data Point\n",
    "Spark can drop any row with missing data. Let's see how that's done!"
   ]
  },
  {
   "cell_type": "code",
   "execution_count": 9,
   "metadata": {},
   "outputs": [
    {
     "name": "stdout",
     "output_type": "stream",
     "text": [
      "+--------------+---------------------+----------------------+---------+---------+------------+-----------------+------------------+--------------------+----------+-----------+-----+--------------------------+-------------------------+--------------+---------------+---------+-----------+---------------+----------------+--------------+---------------+---------------------------------+---------------------------------------+----------------+------------------+-----------------------+--------------------------+-------------------+-------------------+-------------------------------------------+-------------------------+\n",
      "|Accident_Index|Location_Easting_OSGR|Location_Northing_OSGR|Longitude| Latitude|Police_Force|Accident_Severity|Number_of_Vehicles|Number_of_Casualties|      Date|Day_of_Week| Time|Local_Authority_(District)|Local_Authority_(Highway)|1st_Road_Class|1st_Road_Number|Road_Type|Speed_limit|Junction_Detail|Junction_Control|2nd_Road_Class|2nd_Road_Number|Pedestrian_Crossing-Human_Control|Pedestrian_Crossing-Physical_Facilities|Light_Conditions|Weather_Conditions|Road_Surface_Conditions|Special_Conditions_at_Site|Carriageway_Hazards|Urban_or_Rural_Area|Did_Police_Officer_Attend_Scene_of_Accident|LSOA_of_Accident_Location|\n",
      "+--------------+---------------------+----------------------+---------+---------+------------+-----------------+------------------+--------------------+----------+-----------+-----+--------------------------+-------------------------+--------------+---------------+---------+-----------+---------------+----------------+--------------+---------------+---------------------------------+---------------------------------------+----------------+------------------+-----------------------+--------------------------+-------------------+-------------------+-------------------------------------------+-------------------------+\n",
      "| 201501BS70001|               525130|                180050|-0.198465|51.505538|           1|                3|                 1|                   1|12/01/2015|          2|18:45|                        12|                E09000020|             5|              0|        6|         30|              3|               4|             6|              0|                                0|                                      0|               4|                 1|                      1|                         0|                  0|                  1|                                          1|                E01002825|\n",
      "| 201501BS70002|               526530|                178560|-0.178838|51.491836|           1|                3|                 1|                   1|12/01/2015|          2|07:50|                        12|                E09000020|             6|              0|        6|         30|              3|               4|             3|           3218|                                0|                                      0|               1|                 1|                      1|                         0|                  0|                  1|                                          1|                E01002820|\n",
      "| 201501BS70004|               524610|                181080| -0.20559| 51.51491|           1|                3|                 1|                   1|12/01/2015|          2|18:08|                        12|                E09000020|             4|            415|        6|         30|              2|               4|             6|              0|                                0|                                      1|               4|                 2|                      2|                         0|                  0|                  1|                                          1|                E01002833|\n",
      "| 201501BS70005|               524420|                181080|-0.208327|51.514952|           1|                3|                 1|                   1|13/01/2015|          3|07:40|                        12|                E09000020|             4|            450|        6|         30|              6|               4|             6|              0|                                0|                                      0|               1|                 1|                      2|                         0|                  0|                  1|                                          2|                E01002874|\n",
      "| 201501BS70008|               524630|                179040|-0.206022|51.496572|           1|                2|                 2|                   1|09/01/2015|          6|07:30|                        12|                E09000020|             3|            315|        6|         30|              6|               2|             3|           3220|                                0|                                      5|               1|                 2|                      2|                         0|                  0|                  1|                                          2|                E01002814|\n",
      "| 201501BS70009|               525480|                179530| -0.19361|51.500788|           1|                3|                 2|                   1|15/01/2015|          5|09:56|                        12|                E09000020|             3|            315|        6|         30|              3|               4|             5|              0|                                0|                                      4|               1|                 1|                      2|                         0|                  0|                  1|                                          1|                E01002816|\n",
      "| 201501BS70010|               526890|                178940|-0.173519|51.495171|           1|                3|                 2|                   1|15/01/2015|          5|09:09|                        12|                E09000020|             3|           3218|        6|         30|              6|               2|             3|           3218|                                0|                                      5|               1|                 8|                      2|                         0|                  0|                  1|                                          1|                E01002821|\n",
      "| 201501BS70011|               527590|                178660|-0.163542|51.492497|           1|                3|                 2|                   1|18/01/2015|          1|15:30|                        12|                E09000020|             6|              0|        6|         30|              0|              -1|            -1|              0|                                0|                                      0|               1|                 1|                      1|                         0|                  0|                  1|                                          1|                E01002861|\n",
      "| 201501BS70012|               524170|                180930| -0.21198|51.513659|           1|                3|                 2|                   1|16/01/2015|          6|06:20|                        12|                E09000020|             5|              0|        6|         30|              3|               4|             6|              0|                                0|                                      1|               1|                 1|                      1|                         0|                  0|                  1|                                          1|                E01002879|\n",
      "| 201501BS70013|               525010|                181200|-0.199786|  51.5159|           1|                3|                 2|                   2|20/01/2015|          3|15:44|                        12|                E09000020|             6|              0|        6|         30|              3|               4|             6|              0|                                0|                                      0|               1|                 8|                      1|                         0|                  0|                  1|                                          1|                E01002832|\n",
      "| 201501BS70014|               523850|                181450|-0.216407|51.518402|           1|                3|                 2|                   1|23/01/2015|          6|22:39|                        12|                E09000020|             4|            412|        1|         30|              2|               4|             6|              0|                                0|                                      0|               4|                 2|                      2|                         0|                  0|                  1|                                          1|                E01002909|\n",
      "| 201501BS70015|               526110|                179650|-0.184495|51.501726|           1|                3|                 1|                   2|22/01/2015|          5|08:10|                         1|                E09000033|             3|            315|        6|         30|              3|               2|             4|            325|                                0|                                      5|               1|                 1|                      1|                         0|                  0|                  1|                                          1|                E01002891|\n",
      "| 201501BS70016|               526970|                178510|-0.172522|51.491289|           1|                3|                 2|                   1|21/01/2015|          4|18:05|                        12|                E09000020|             3|            308|        6|         30|              3|               4|             6|              0|                                0|                                      0|               4|                 1|                      1|                         0|                  0|                  1|                                          1|                E01002914|\n",
      "| 201501BS70017|               525350|                178640|-0.195797|51.492818|           1|                3|                 1|                   1|21/01/2015|          4|13:38|                        12|                E09000020|             6|              0|        6|         30|              6|               4|             6|              0|                                0|                                      0|               1|                 1|                      1|                         0|                  0|                  1|                                          1|                E01002847|\n",
      "| 201501BS70018|               527370|                178170|-0.166886|51.488143|           1|                3|                 1|                   1|23/01/2015|          6|10:57|                        12|                E09000020|             3|           3217|        6|         30|              3|               4|             6|              0|                                0|                                      0|               1|                 1|                      1|                         0|                  0|                  1|                                          1|                E01002899|\n",
      "| 201501BS70019|               527370|                178180|-0.166882|51.488233|           1|                3|                 1|                   1|23/01/2015|          6|17:15|                        12|                E09000020|             3|           3217|        6|         30|              3|               4|             6|              0|                                0|                                      0|               4|                 1|                      1|                         0|                  0|                  1|                                          1|                E01002899|\n",
      "| 201501BS70020|               524020|                181050|-0.214099| 51.51477|           1|                3|                 2|                   1|23/01/2015|          6|13:34|                        12|                E09000020|             5|              0|        6|         30|              3|               4|             6|              0|                                0|                                      0|               1|                 1|                      1|                         0|                  0|                  1|                                          1|                E01002878|\n",
      "| 201501BS70022|               526200|                177720|-0.183889|51.484361|           1|                3|                 2|                   1|25/01/2015|          1|01:50|                        12|                E09000020|             3|            308|        6|         30|              0|              -1|            -1|              0|                                0|                                      5|               4|                 1|                      1|                         0|                  0|                  1|                                          1|                E01002912|\n",
      "| 201501BS70023|               524450|                181560|-0.207725|51.519259|           1|                3|                 1|                   1|24/01/2015|          7|16:16|                        12|                E09000020|             6|              0|        6|         30|              0|              -1|            -1|              0|                                0|                                      0|               4|                 1|                      1|                         0|                  0|                  1|                                          1|                E01002855|\n",
      "| 201501BS70024|               526940|                178480|-0.172964|51.491026|           1|                3|                 2|                   1|23/01/2015|          6|15:25|                        12|                E09000020|             3|            308|        6|         30|              8|               4|             6|              0|                                0|                                      0|               1|                 1|                      1|                         0|                  0|                  1|                                          1|                E01002914|\n",
      "+--------------+---------------------+----------------------+---------+---------+------------+-----------------+------------------+--------------------+----------+-----------+-----+--------------------------+-------------------------+--------------+---------------+---------+-----------+---------------+----------------+--------------+---------------+---------------------------------+---------------------------------------+----------------+------------------+-----------------------+--------------------------+-------------------+-------------------+-------------------------------------------+-------------------------+\n",
      "only showing top 20 rows\n",
      "\n"
     ]
    },
    {
     "name": "stdout",
     "output_type": "stream",
     "text": [
      "Total data points: 140056\n"
     ]
    }
   ],
   "source": [
    "# 'na' stands for Not Available. Using na, we can then use drop. \n",
    "# After using show, you'll find that the rows with the null values are gone. \n",
    "df.na.drop().show()\n",
    "\n",
    "# Let's see how many rows of data we have now. \n",
    "print(\"Total data points:\", df.count())"
   ]
  },
  {
   "cell_type": "code",
   "execution_count": 10,
   "metadata": {},
   "outputs": [
    {
     "name": "stdout",
     "output_type": "stream",
     "text": [
      "+--------------+---------------------+----------------------+---------+---------+------------+-----------------+------------------+--------------------+----------+-----------+-----+--------------------------+-------------------------+--------------+---------------+---------+-----------+---------------+----------------+--------------+---------------+---------------------------------+---------------------------------------+----------------+------------------+-----------------------+--------------------------+-------------------+-------------------+-------------------------------------------+-------------------------+\n",
      "|Accident_Index|Location_Easting_OSGR|Location_Northing_OSGR|Longitude| Latitude|Police_Force|Accident_Severity|Number_of_Vehicles|Number_of_Casualties|      Date|Day_of_Week| Time|Local_Authority_(District)|Local_Authority_(Highway)|1st_Road_Class|1st_Road_Number|Road_Type|Speed_limit|Junction_Detail|Junction_Control|2nd_Road_Class|2nd_Road_Number|Pedestrian_Crossing-Human_Control|Pedestrian_Crossing-Physical_Facilities|Light_Conditions|Weather_Conditions|Road_Surface_Conditions|Special_Conditions_at_Site|Carriageway_Hazards|Urban_or_Rural_Area|Did_Police_Officer_Attend_Scene_of_Accident|LSOA_of_Accident_Location|\n",
      "+--------------+---------------------+----------------------+---------+---------+------------+-----------------+------------------+--------------------+----------+-----------+-----+--------------------------+-------------------------+--------------+---------------+---------+-----------+---------------+----------------+--------------+---------------+---------------------------------+---------------------------------------+----------------+------------------+-----------------------+--------------------------+-------------------+-------------------+-------------------------------------------+-------------------------+\n",
      "| 201501BS70001|               525130|                180050|-0.198465|51.505538|           1|                3|                 1|                   1|12/01/2015|          2|18:45|                        12|                E09000020|             5|              0|        6|         30|              3|               4|             6|              0|                                0|                                      0|               4|                 1|                      1|                         0|                  0|                  1|                                          1|                E01002825|\n",
      "| 201501BS70002|               526530|                178560|-0.178838|51.491836|           1|                3|                 1|                   1|12/01/2015|          2|07:50|                        12|                E09000020|             6|              0|        6|         30|              3|               4|             3|           3218|                                0|                                      0|               1|                 1|                      1|                         0|                  0|                  1|                                          1|                E01002820|\n",
      "| 201501BS70004|               524610|                181080| -0.20559| 51.51491|           1|                3|                 1|                   1|12/01/2015|          2|18:08|                        12|                E09000020|             4|            415|        6|         30|              2|               4|             6|              0|                                0|                                      1|               4|                 2|                      2|                         0|                  0|                  1|                                          1|                E01002833|\n",
      "| 201501BS70005|               524420|                181080|-0.208327|51.514952|           1|                3|                 1|                   1|13/01/2015|          3|07:40|                        12|                E09000020|             4|            450|        6|         30|              6|               4|             6|              0|                                0|                                      0|               1|                 1|                      2|                         0|                  0|                  1|                                          2|                E01002874|\n",
      "| 201501BS70008|               524630|                179040|-0.206022|51.496572|           1|                2|                 2|                   1|09/01/2015|          6|07:30|                        12|                E09000020|             3|            315|        6|         30|              6|               2|             3|           3220|                                0|                                      5|               1|                 2|                      2|                         0|                  0|                  1|                                          2|                E01002814|\n",
      "| 201501BS70009|               525480|                179530| -0.19361|51.500788|           1|                3|                 2|                   1|15/01/2015|          5|09:56|                        12|                E09000020|             3|            315|        6|         30|              3|               4|             5|              0|                                0|                                      4|               1|                 1|                      2|                         0|                  0|                  1|                                          1|                E01002816|\n",
      "| 201501BS70010|               526890|                178940|-0.173519|51.495171|           1|                3|                 2|                   1|15/01/2015|          5|09:09|                        12|                E09000020|             3|           3218|        6|         30|              6|               2|             3|           3218|                                0|                                      5|               1|                 8|                      2|                         0|                  0|                  1|                                          1|                E01002821|\n",
      "| 201501BS70011|               527590|                178660|-0.163542|51.492497|           1|                3|                 2|                   1|18/01/2015|          1|15:30|                        12|                E09000020|             6|              0|        6|         30|              0|              -1|            -1|              0|                                0|                                      0|               1|                 1|                      1|                         0|                  0|                  1|                                          1|                E01002861|\n",
      "| 201501BS70012|               524170|                180930| -0.21198|51.513659|           1|                3|                 2|                   1|16/01/2015|          6|06:20|                        12|                E09000020|             5|              0|        6|         30|              3|               4|             6|              0|                                0|                                      1|               1|                 1|                      1|                         0|                  0|                  1|                                          1|                E01002879|\n",
      "| 201501BS70013|               525010|                181200|-0.199786|  51.5159|           1|                3|                 2|                   2|20/01/2015|          3|15:44|                        12|                E09000020|             6|              0|        6|         30|              3|               4|             6|              0|                                0|                                      0|               1|                 8|                      1|                         0|                  0|                  1|                                          1|                E01002832|\n",
      "| 201501BS70014|               523850|                181450|-0.216407|51.518402|           1|                3|                 2|                   1|23/01/2015|          6|22:39|                        12|                E09000020|             4|            412|        1|         30|              2|               4|             6|              0|                                0|                                      0|               4|                 2|                      2|                         0|                  0|                  1|                                          1|                E01002909|\n",
      "| 201501BS70015|               526110|                179650|-0.184495|51.501726|           1|                3|                 1|                   2|22/01/2015|          5|08:10|                         1|                E09000033|             3|            315|        6|         30|              3|               2|             4|            325|                                0|                                      5|               1|                 1|                      1|                         0|                  0|                  1|                                          1|                E01002891|\n",
      "| 201501BS70016|               526970|                178510|-0.172522|51.491289|           1|                3|                 2|                   1|21/01/2015|          4|18:05|                        12|                E09000020|             3|            308|        6|         30|              3|               4|             6|              0|                                0|                                      0|               4|                 1|                      1|                         0|                  0|                  1|                                          1|                E01002914|\n",
      "| 201501BS70017|               525350|                178640|-0.195797|51.492818|           1|                3|                 1|                   1|21/01/2015|          4|13:38|                        12|                E09000020|             6|              0|        6|         30|              6|               4|             6|              0|                                0|                                      0|               1|                 1|                      1|                         0|                  0|                  1|                                          1|                E01002847|\n",
      "| 201501BS70018|               527370|                178170|-0.166886|51.488143|           1|                3|                 1|                   1|23/01/2015|          6|10:57|                        12|                E09000020|             3|           3217|        6|         30|              3|               4|             6|              0|                                0|                                      0|               1|                 1|                      1|                         0|                  0|                  1|                                          1|                E01002899|\n",
      "| 201501BS70019|               527370|                178180|-0.166882|51.488233|           1|                3|                 1|                   1|23/01/2015|          6|17:15|                        12|                E09000020|             3|           3217|        6|         30|              3|               4|             6|              0|                                0|                                      0|               4|                 1|                      1|                         0|                  0|                  1|                                          1|                E01002899|\n",
      "| 201501BS70020|               524020|                181050|-0.214099| 51.51477|           1|                3|                 2|                   1|23/01/2015|          6|13:34|                        12|                E09000020|             5|              0|        6|         30|              3|               4|             6|              0|                                0|                                      0|               1|                 1|                      1|                         0|                  0|                  1|                                          1|                E01002878|\n",
      "| 201501BS70022|               526200|                177720|-0.183889|51.484361|           1|                3|                 2|                   1|25/01/2015|          1|01:50|                        12|                E09000020|             3|            308|        6|         30|              0|              -1|            -1|              0|                                0|                                      5|               4|                 1|                      1|                         0|                  0|                  1|                                          1|                E01002912|\n",
      "| 201501BS70023|               524450|                181560|-0.207725|51.519259|           1|                3|                 1|                   1|24/01/2015|          7|16:16|                        12|                E09000020|             6|              0|        6|         30|              0|              -1|            -1|              0|                                0|                                      0|               4|                 1|                      1|                         0|                  0|                  1|                                          1|                E01002855|\n",
      "| 201501BS70024|               526940|                178480|-0.172964|51.491026|           1|                3|                 2|                   1|23/01/2015|          6|15:25|                        12|                E09000020|             3|            308|        6|         30|              8|               4|             6|              0|                                0|                                      0|               1|                 1|                      1|                         0|                  0|                  1|                                          1|                E01002914|\n",
      "+--------------+---------------------+----------------------+---------+---------+------------+-----------------+------------------+--------------------+----------+-----------+-----+--------------------------+-------------------------+--------------+---------------+---------+-----------+---------------+----------------+--------------+---------------+---------------------------------+---------------------------------------+----------------+------------------+-----------------------+--------------------------+-------------------+-------------------+-------------------------------------------+-------------------------+\n",
      "only showing top 20 rows\n",
      "\n"
     ]
    },
    {
     "name": "stdout",
     "output_type": "stream",
     "text": [
      "Total data points: 131144\n"
     ]
    }
   ],
   "source": [
    "# Oops! Forgot to assign the result to a variable. Let's try that again. Now you can see that 7 rows have been removed.\n",
    "dropped_df = df.na.drop()\n",
    "dropped_df.show()\n",
    "print(\"Total data points:\", dropped_df.count())"
   ]
  },
  {
   "cell_type": "markdown",
   "metadata": {},
   "source": [
    "# Dropping Rows - Missing Field\n",
    "What about data missing in a particular field?\n",
    "\n",
    "Using subset, we're able to specify that if data in a particular feature is missing, then the entire row should be dropped. Let's see how that works."
   ]
  },
  {
   "cell_type": "code",
   "execution_count": 12,
   "metadata": {},
   "outputs": [
    {
     "name": "stdout",
     "output_type": "stream",
     "text": [
      "+--------------+---------------------+----------------------+---------+---------+------------+-----------------+------------------+--------------------+----------+-----------+-----+--------------------------+-------------------------+--------------+---------------+---------+-----------+---------------+----------------+--------------+---------------+---------------------------------+---------------------------------------+----------------+------------------+-----------------------+--------------------------+-------------------+-------------------+-------------------------------------------+-------------------------+\n",
      "|Accident_Index|Location_Easting_OSGR|Location_Northing_OSGR|Longitude| Latitude|Police_Force|Accident_Severity|Number_of_Vehicles|Number_of_Casualties|      Date|Day_of_Week| Time|Local_Authority_(District)|Local_Authority_(Highway)|1st_Road_Class|1st_Road_Number|Road_Type|Speed_limit|Junction_Detail|Junction_Control|2nd_Road_Class|2nd_Road_Number|Pedestrian_Crossing-Human_Control|Pedestrian_Crossing-Physical_Facilities|Light_Conditions|Weather_Conditions|Road_Surface_Conditions|Special_Conditions_at_Site|Carriageway_Hazards|Urban_or_Rural_Area|Did_Police_Officer_Attend_Scene_of_Accident|LSOA_of_Accident_Location|\n",
      "+--------------+---------------------+----------------------+---------+---------+------------+-----------------+------------------+--------------------+----------+-----------+-----+--------------------------+-------------------------+--------------+---------------+---------+-----------+---------------+----------------+--------------+---------------+---------------------------------+---------------------------------------+----------------+------------------+-----------------------+--------------------------+-------------------+-------------------+-------------------------------------------+-------------------------+\n",
      "| 201501BS70001|               525130|                180050|-0.198465|51.505538|           1|                3|                 1|                   1|12/01/2015|          2|18:45|                        12|                E09000020|             5|              0|        6|         30|              3|               4|             6|              0|                                0|                                      0|               4|                 1|                      1|                         0|                  0|                  1|                                          1|                E01002825|\n",
      "| 201501BS70002|               526530|                178560|-0.178838|51.491836|           1|                3|                 1|                   1|12/01/2015|          2|07:50|                        12|                E09000020|             6|              0|        6|         30|              3|               4|             3|           3218|                                0|                                      0|               1|                 1|                      1|                         0|                  0|                  1|                                          1|                E01002820|\n",
      "| 201501BS70004|               524610|                181080| -0.20559| 51.51491|           1|                3|                 1|                   1|12/01/2015|          2|18:08|                        12|                E09000020|             4|            415|        6|         30|              2|               4|             6|              0|                                0|                                      1|               4|                 2|                      2|                         0|                  0|                  1|                                          1|                E01002833|\n",
      "| 201501BS70005|               524420|                181080|-0.208327|51.514952|           1|                3|                 1|                   1|13/01/2015|          3|07:40|                        12|                E09000020|             4|            450|        6|         30|              6|               4|             6|              0|                                0|                                      0|               1|                 1|                      2|                         0|                  0|                  1|                                          2|                E01002874|\n",
      "| 201501BS70008|               524630|                179040|-0.206022|51.496572|           1|                2|                 2|                   1|09/01/2015|          6|07:30|                        12|                E09000020|             3|            315|        6|         30|              6|               2|             3|           3220|                                0|                                      5|               1|                 2|                      2|                         0|                  0|                  1|                                          2|                E01002814|\n",
      "| 201501BS70009|               525480|                179530| -0.19361|51.500788|           1|                3|                 2|                   1|15/01/2015|          5|09:56|                        12|                E09000020|             3|            315|        6|         30|              3|               4|             5|              0|                                0|                                      4|               1|                 1|                      2|                         0|                  0|                  1|                                          1|                E01002816|\n",
      "| 201501BS70010|               526890|                178940|-0.173519|51.495171|           1|                3|                 2|                   1|15/01/2015|          5|09:09|                        12|                E09000020|             3|           3218|        6|         30|              6|               2|             3|           3218|                                0|                                      5|               1|                 8|                      2|                         0|                  0|                  1|                                          1|                E01002821|\n",
      "| 201501BS70011|               527590|                178660|-0.163542|51.492497|           1|                3|                 2|                   1|18/01/2015|          1|15:30|                        12|                E09000020|             6|              0|        6|         30|              0|              -1|            -1|              0|                                0|                                      0|               1|                 1|                      1|                         0|                  0|                  1|                                          1|                E01002861|\n",
      "| 201501BS70012|               524170|                180930| -0.21198|51.513659|           1|                3|                 2|                   1|16/01/2015|          6|06:20|                        12|                E09000020|             5|              0|        6|         30|              3|               4|             6|              0|                                0|                                      1|               1|                 1|                      1|                         0|                  0|                  1|                                          1|                E01002879|\n",
      "| 201501BS70013|               525010|                181200|-0.199786|  51.5159|           1|                3|                 2|                   2|20/01/2015|          3|15:44|                        12|                E09000020|             6|              0|        6|         30|              3|               4|             6|              0|                                0|                                      0|               1|                 8|                      1|                         0|                  0|                  1|                                          1|                E01002832|\n",
      "| 201501BS70014|               523850|                181450|-0.216407|51.518402|           1|                3|                 2|                   1|23/01/2015|          6|22:39|                        12|                E09000020|             4|            412|        1|         30|              2|               4|             6|              0|                                0|                                      0|               4|                 2|                      2|                         0|                  0|                  1|                                          1|                E01002909|\n",
      "| 201501BS70015|               526110|                179650|-0.184495|51.501726|           1|                3|                 1|                   2|22/01/2015|          5|08:10|                         1|                E09000033|             3|            315|        6|         30|              3|               2|             4|            325|                                0|                                      5|               1|                 1|                      1|                         0|                  0|                  1|                                          1|                E01002891|\n",
      "| 201501BS70016|               526970|                178510|-0.172522|51.491289|           1|                3|                 2|                   1|21/01/2015|          4|18:05|                        12|                E09000020|             3|            308|        6|         30|              3|               4|             6|              0|                                0|                                      0|               4|                 1|                      1|                         0|                  0|                  1|                                          1|                E01002914|\n",
      "| 201501BS70017|               525350|                178640|-0.195797|51.492818|           1|                3|                 1|                   1|21/01/2015|          4|13:38|                        12|                E09000020|             6|              0|        6|         30|              6|               4|             6|              0|                                0|                                      0|               1|                 1|                      1|                         0|                  0|                  1|                                          1|                E01002847|\n",
      "| 201501BS70018|               527370|                178170|-0.166886|51.488143|           1|                3|                 1|                   1|23/01/2015|          6|10:57|                        12|                E09000020|             3|           3217|        6|         30|              3|               4|             6|              0|                                0|                                      0|               1|                 1|                      1|                         0|                  0|                  1|                                          1|                E01002899|\n",
      "| 201501BS70019|               527370|                178180|-0.166882|51.488233|           1|                3|                 1|                   1|23/01/2015|          6|17:15|                        12|                E09000020|             3|           3217|        6|         30|              3|               4|             6|              0|                                0|                                      0|               4|                 1|                      1|                         0|                  0|                  1|                                          1|                E01002899|\n",
      "| 201501BS70020|               524020|                181050|-0.214099| 51.51477|           1|                3|                 2|                   1|23/01/2015|          6|13:34|                        12|                E09000020|             5|              0|        6|         30|              3|               4|             6|              0|                                0|                                      0|               1|                 1|                      1|                         0|                  0|                  1|                                          1|                E01002878|\n",
      "| 201501BS70022|               526200|                177720|-0.183889|51.484361|           1|                3|                 2|                   1|25/01/2015|          1|01:50|                        12|                E09000020|             3|            308|        6|         30|              0|              -1|            -1|              0|                                0|                                      5|               4|                 1|                      1|                         0|                  0|                  1|                                          1|                E01002912|\n",
      "| 201501BS70023|               524450|                181560|-0.207725|51.519259|           1|                3|                 1|                   1|24/01/2015|          7|16:16|                        12|                E09000020|             6|              0|        6|         30|              0|              -1|            -1|              0|                                0|                                      0|               4|                 1|                      1|                         0|                  0|                  1|                                          1|                E01002855|\n",
      "| 201501BS70024|               526940|                178480|-0.172964|51.491026|           1|                3|                 2|                   1|23/01/2015|          6|15:25|                        12|                E09000020|             3|            308|        6|         30|              8|               4|             6|              0|                                0|                                      0|               1|                 1|                      1|                         0|                  0|                  1|                                          1|                E01002914|\n",
      "+--------------+---------------------+----------------------+---------+---------+------------+-----------------+------------------+--------------------+----------+-----------+-----+--------------------------+-------------------------+--------------+---------------+---------+-----------+---------------+----------------+--------------+---------------+---------------------------------+---------------------------------------+----------------+------------------+-----------------------+--------------------------+-------------------+-------------------+-------------------------------------------+-------------------------+\n",
      "only showing top 20 rows\n",
      "\n"
     ]
    },
    {
     "name": "stdout",
     "output_type": "stream",
     "text": [
      "Total data points: 140056\n"
     ]
    }
   ],
   "source": [
    "missing_field_df = df.na.drop(subset=\"Accident_Severity\")\n",
    "missing_field_df.show()\n",
    "print(\"Total data points:\", missing_field_df.count())"
   ]
  },
  {
   "cell_type": "code",
   "execution_count": null,
   "metadata": {},
   "outputs": [],
   "source": []
  }
 ],
 "metadata": {
  "kernelspec": {
   "display_name": "Python 3",
   "language": "python",
   "name": "python3"
  },
  "language_info": {
   "codemirror_mode": {
    "name": "ipython",
    "version": 3
   },
   "file_extension": ".py",
   "mimetype": "text/x-python",
   "name": "python",
   "nbconvert_exporter": "python",
   "pygments_lexer": "ipython3",
   "version": "3.5.2"
  }
 },
 "nbformat": 4,
 "nbformat_minor": 2
}
